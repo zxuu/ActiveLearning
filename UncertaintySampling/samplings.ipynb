{
 "cells": [
  {
   "attachments": {},
   "cell_type": "markdown",
   "metadata": {},
   "source": [
    "![](../img/samplings1.png)"
   ]
  },
  {
   "cell_type": "code",
   "execution_count": 2,
   "metadata": {},
   "outputs": [],
   "source": [
    "import numpy as np"
   ]
  },
  {
   "cell_type": "code",
   "execution_count": 2,
   "metadata": {},
   "outputs": [],
   "source": [
    "# prob_dist为一个样本预测的概率分布\n",
    "prob_dist = np.array([0.9352784428596497, 0.05409964170306921, 0.038225741147994995])"
   ]
  },
  {
   "attachments": {},
   "cell_type": "markdown",
   "metadata": {},
   "source": [
    "#### Least Confidence\n",
    "* difference between the most confident prediction and 100% confidence\n",
    "* 使用LC会倾向于选择长句子"
   ]
  },
  {
   "cell_type": "code",
   "execution_count": 3,
   "metadata": {},
   "outputs": [
    {
     "name": "stdout",
     "output_type": "stream",
     "text": [
      "0.09708233571052549\n"
     ]
    }
   ],
   "source": [
    "most_conf = np.nanmax(prob_dist)    # Return the maximum of an array\n",
    "num_labels = prob_dist.size\n",
    "numerator = (num_labels * (1 - most_conf))    # 1-最大的标签概率值\n",
    "denominator = (num_labels - 1)\n",
    "\n",
    "least_conf = numerator/denominator\n",
    "print(least_conf)    # 0.09708233571052549"
   ]
  },
  {
   "attachments": {},
   "cell_type": "markdown",
   "metadata": {},
   "source": [
    "#### Margin of confidence sampling\n",
    "difference between the top two most confident predictions"
   ]
  },
  {
   "cell_type": "code",
   "execution_count": 13,
   "metadata": {},
   "outputs": [
    {
     "name": "stdout",
     "output_type": "stream",
     "text": [
      "0.11882119884341957\n"
     ]
    }
   ],
   "source": [
    "# prob_dist[::-1].sort()\n",
    "difference = prob_dist[0] - prob_dist[1]    # 最大值减去第二大值\n",
    "\n",
    "margin_conf = 1 - difference\n",
    "print(margin_conf)    # 0.11882119884341957"
   ]
  },
  {
   "attachments": {},
   "cell_type": "markdown",
   "metadata": {},
   "source": [
    "#### Ratio of Confidence\n",
    "ratio between the top two most confident predictions"
   ]
  },
  {
   "cell_type": "code",
   "execution_count": 14,
   "metadata": {},
   "outputs": [
    {
     "name": "stdout",
     "output_type": "stream",
     "text": [
      "17.28807092647693\n"
     ]
    }
   ],
   "source": [
    "ratio_conf = prob_dist[0] / prob_dist[1]    # 最大值/第二大值\n",
    "print(ratio_conf)    # 17.28807092647693"
   ]
  },
  {
   "attachments": {},
   "cell_type": "markdown",
   "metadata": {},
   "source": [
    "#### Entropy Sampling\n",
    "difference between all predictions, as defined by information theory"
   ]
  },
  {
   "cell_type": "code",
   "execution_count": 15,
   "metadata": {},
   "outputs": [
    {
     "name": "stdout",
     "output_type": "stream",
     "text": [
      "0.31418125050963064\n"
     ]
    }
   ],
   "source": [
    "prbs_logs = prob_dist * np.log2(prob_dist)\n",
    "numerator = 0 - np.sum(prbs_logs)\n",
    "denominator = np.log2(prob_dist.size)\n",
    "\n",
    "entropy = numerator/denominator\n",
    "print(entropy)    # 0.31418125050963064"
   ]
  },
  {
   "attachments": {},
   "cell_type": "markdown",
   "metadata": {},
   "source": [
    "#### Maximum Normalized Log-Probality（MNLP）\n",
    "* 最大归一化对数概率方法(针对序列标注问题)\n",
    "* 参考文献：DEEP ACTIVE LEARNING FOR NAMED ENTITY RECOGNITION(Yanyao Shen,2017)"
   ]
  },
  {
   "cell_type": "code",
   "execution_count": 15,
   "metadata": {},
   "outputs": [
    {
     "name": "stdout",
     "output_type": "stream",
     "text": [
      "[[0.78952317 0.35976435 0.96838048 0.94464513]\n",
      " [0.09198099 0.52867963 0.06529253 0.43732983]\n",
      " [0.83175306 0.46120938 0.97753297 0.59415624]]\n"
     ]
    },
    {
     "data": {
      "text/plain": [
       "-0.01071007116257311"
      ]
     },
     "execution_count": 15,
     "metadata": {},
     "output_type": "execute_result"
    }
   ],
   "source": [
    "import torch\n",
    "d = np.random.random(size=(3,4))    # 序列长度为3,4分类\n",
    "print(d)\n",
    "np.sum(np.log(d.max(-1)[0]))/d.shape[0]"
   ]
  }
 ],
 "metadata": {
  "kernelspec": {
   "display_name": "base",
   "language": "python",
   "name": "python3"
  },
  "language_info": {
   "codemirror_mode": {
    "name": "ipython",
    "version": 3
   },
   "file_extension": ".py",
   "mimetype": "text/x-python",
   "name": "python",
   "nbconvert_exporter": "python",
   "pygments_lexer": "ipython3",
   "version": "3.7.15"
  },
  "orig_nbformat": 4
 },
 "nbformat": 4,
 "nbformat_minor": 2
}
