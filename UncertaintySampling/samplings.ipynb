{
 "cells": [
  {
   "cell_type": "code",
   "execution_count": 1,
   "metadata": {},
   "outputs": [],
   "source": [
    "import numpy as np"
   ]
  },
  {
   "cell_type": "code",
   "execution_count": 2,
   "metadata": {},
   "outputs": [],
   "source": [
    "# prob_dist为一个样本预测的概率分布\n",
    "prob_dist = np.array([0.9352784428596497, 0.05409964170306921, 0.038225741147994995])"
   ]
  },
  {
   "attachments": {},
   "cell_type": "markdown",
   "metadata": {},
   "source": [
    "#### Least Confidence\n",
    "difference between the most confident prediction and 100% confidence"
   ]
  },
  {
   "cell_type": "code",
   "execution_count": 3,
   "metadata": {},
   "outputs": [
    {
     "name": "stdout",
     "output_type": "stream",
     "text": [
      "0.09708233571052549\n"
     ]
    }
   ],
   "source": [
    "most_conf = np.nanmax(prob_dist)    # Return the maximum of an array\n",
    "num_labels = prob_dist.size\n",
    "numerator = (num_labels * (1 - most_conf))    # 1-最大的标签概率值\n",
    "denominator = (num_labels - 1)\n",
    "\n",
    "least_conf = numerator/denominator\n",
    "print(least_conf)    # 0.09708233571052549"
   ]
  },
  {
   "attachments": {},
   "cell_type": "markdown",
   "metadata": {},
   "source": [
    "#### Margin of confidence sampling\n",
    "difference between the top two most confident predictions"
   ]
  },
  {
   "cell_type": "code",
   "execution_count": 13,
   "metadata": {},
   "outputs": [
    {
     "name": "stdout",
     "output_type": "stream",
     "text": [
      "0.11882119884341957\n"
     ]
    }
   ],
   "source": [
    "# prob_dist[::-1].sort()\n",
    "difference = prob_dist[0] - prob_dist[1]    # 最大值减去第二大值\n",
    "\n",
    "margin_conf = 1 - difference\n",
    "print(margin_conf)    # 0.11882119884341957"
   ]
  },
  {
   "attachments": {},
   "cell_type": "markdown",
   "metadata": {},
   "source": [
    "#### Ratio of Confidence\n",
    "ratio between the top two most confident predictions"
   ]
  },
  {
   "cell_type": "code",
   "execution_count": 14,
   "metadata": {},
   "outputs": [
    {
     "name": "stdout",
     "output_type": "stream",
     "text": [
      "17.28807092647693\n"
     ]
    }
   ],
   "source": [
    "ratio_conf = prob_dist[0] / prob_dist[1]    # 最大值/第二大值\n",
    "print(ratio_conf)    # 17.28807092647693"
   ]
  },
  {
   "attachments": {},
   "cell_type": "markdown",
   "metadata": {},
   "source": [
    "#### Entropy Sampling\n",
    "difference between all predictions, as defined by information theory"
   ]
  },
  {
   "cell_type": "code",
   "execution_count": 15,
   "metadata": {},
   "outputs": [
    {
     "name": "stdout",
     "output_type": "stream",
     "text": [
      "0.31418125050963064\n"
     ]
    }
   ],
   "source": [
    "prbs_logs = prob_dist * np.log2(prob_dist)\n",
    "numerator = 0 - np.sum(prbs_logs)\n",
    "denominator = np.log2(prob_dist.size)\n",
    "\n",
    "entropy = numerator/denominator\n",
    "print(entropy)    # 0.31418125050963064"
   ]
  }
 ],
 "metadata": {
  "kernelspec": {
   "display_name": "base",
   "language": "python",
   "name": "python3"
  },
  "language_info": {
   "codemirror_mode": {
    "name": "ipython",
    "version": 3
   },
   "file_extension": ".py",
   "mimetype": "text/x-python",
   "name": "python",
   "nbconvert_exporter": "python",
   "pygments_lexer": "ipython3",
   "version": "3.7.6"
  },
  "orig_nbformat": 4
 },
 "nbformat": 4,
 "nbformat_minor": 2
}
