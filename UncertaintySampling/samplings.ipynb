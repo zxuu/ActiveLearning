{
 "cells": [
  {
   "attachments": {},
   "cell_type": "markdown",
   "metadata": {},
   "source": [
    "![](../img/samplings1.png)"
   ]
  },
  {
   "attachments": {},
   "cell_type": "markdown",
   "metadata": {},
   "source": [
    "# 越大越好"
   ]
  },
  {
   "cell_type": "code",
   "execution_count": 2,
   "metadata": {},
   "outputs": [],
   "source": [
    "import numpy as np"
   ]
  },
  {
   "cell_type": "code",
   "execution_count": 2,
   "metadata": {},
   "outputs": [],
   "source": [
    "# prob_dist为一个样本预测的概率分布\n",
    "prob_dist = np.array([0.9352784428596497, 0.05409964170306921, 0.038225741147994995])"
   ]
  },
  {
   "attachments": {},
   "cell_type": "markdown",
   "metadata": {},
   "source": [
    "#### Least Confidence\n",
    "* 概率最大的值也比较小\n",
    "* difference between the most confident prediction and 100% confidence\n",
    "* 使用LC会倾向于选择长句子"
   ]
  },
  {
   "cell_type": "code",
   "execution_count": 3,
   "metadata": {},
   "outputs": [
    {
     "name": "stdout",
     "output_type": "stream",
     "text": [
      "0.09708233571052549\n"
     ]
    }
   ],
   "source": [
    "most_conf = np.nanmax(prob_dist)    # Return the maximum of an array\n",
    "num_labels = prob_dist.size\n",
    "numerator = (num_labels * (1 - most_conf))    # 1-最大的标签概率值\n",
    "denominator = (num_labels - 1)\n",
    "\n",
    "least_conf = numerator/denominator\n",
    "print(least_conf)    # 0.09708233571052549"
   ]
  },
  {
   "attachments": {},
   "cell_type": "markdown",
   "metadata": {},
   "source": [
    "#### Margin of confidence sampling\n",
    "* 概率最大的两个值差距不是很明显\n",
    "* difference between the top two most confident predictions"
   ]
  },
  {
   "cell_type": "code",
   "execution_count": 13,
   "metadata": {},
   "outputs": [
    {
     "name": "stdout",
     "output_type": "stream",
     "text": [
      "0.11882119884341957\n"
     ]
    }
   ],
   "source": [
    "# prob_dist[::-1].sort()\n",
    "difference = prob_dist[0] - prob_dist[1]    # 最大值减去第二大值\n",
    "\n",
    "margin_conf = 1 - difference\n",
    "print(margin_conf)    # 0.11882119884341957"
   ]
  },
  {
   "attachments": {},
   "cell_type": "markdown",
   "metadata": {},
   "source": [
    "#### Ratio of Confidence\n",
    "* 概率最大的两个值差距不是很明显\n",
    "* ratio between the top two most confident predictions"
   ]
  },
  {
   "cell_type": "code",
   "execution_count": 14,
   "metadata": {},
   "outputs": [
    {
     "name": "stdout",
     "output_type": "stream",
     "text": [
      "17.28807092647693\n"
     ]
    }
   ],
   "source": [
    "ratio_conf = prob_dist[1] / prob_dist[0]    # 最大值/第二大值\n",
    "print(ratio_conf)    # 17.28807092647693"
   ]
  },
  {
   "attachments": {},
   "cell_type": "markdown",
   "metadata": {},
   "source": [
    "#### Entropy Sampling\n",
    "* 选择熵大的\n",
    "* difference between all predictions, as defined by information theory"
   ]
  },
  {
   "cell_type": "code",
   "execution_count": 15,
   "metadata": {},
   "outputs": [
    {
     "name": "stdout",
     "output_type": "stream",
     "text": [
      "0.31418125050963064\n"
     ]
    }
   ],
   "source": [
    "prbs_logs = prob_dist * np.log2(prob_dist)\n",
    "numerator = 0 - np.sum(prbs_logs)\n",
    "denominator = np.log2(prob_dist.size)\n",
    "\n",
    "entropy = numerator/denominator\n",
    "print(entropy)    # 0.31418125050963064"
   ]
  },
  {
   "attachments": {},
   "cell_type": "markdown",
   "metadata": {},
   "source": [
    "#### Maximum Normalized Log-Probality（MNLP）\n",
    "* 最大归一化对数概率方法(针对序列标注问题)\n",
    "* 参考文献：DEEP ACTIVE LEARNING FOR NAMED ENTITY RECOGNITION(Yanyao Shen,2017)"
   ]
  },
  {
   "cell_type": "code",
   "execution_count": 4,
   "metadata": {},
   "outputs": [
    {
     "name": "stdout",
     "output_type": "stream",
     "text": [
      "[[0.31158052 0.85954846 0.63839036 0.11348048]\n",
      " [0.57505734 0.26914474 0.19712184 0.82477003]\n",
      " [0.13871147 0.88584413 0.02020741 0.05100702]]\n"
     ]
    },
    {
     "data": {
      "text/plain": [
       "-0.050449357960654494"
      ]
     },
     "execution_count": 4,
     "metadata": {},
     "output_type": "execute_result"
    }
   ],
   "source": [
    "import torch\n",
    "import numpy as np\n",
    "logists = np.random.random(size=(3,4))    # 序列长度为3,  4分类\n",
    "print(logists)\n",
    "np.sum(np.log(logists.max(-1)[0]))/logists.shape[0]"
   ]
  },
  {
   "cell_type": "code",
   "execution_count": 1,
   "metadata": {},
   "outputs": [
    {
     "name": "stderr",
     "output_type": "stream",
     "text": [
      "d:\\Anaconda\\envs\\tor1131py37\\lib\\site-packages\\tqdm\\auto.py:21: TqdmWarning: IProgress not found. Please update jupyter and ipywidgets. See https://ipywidgets.readthedocs.io/en/stable/user_install.html\n",
      "  from .autonotebook import tqdm as notebook_tqdm\n"
     ]
    },
    {
     "name": "stdout",
     "output_type": "stream",
     "text": [
      "[[0.92593499 0.81605101 0.1933146 ]\n",
      " [0.70379191 0.6296827  0.97240277]]\n"
     ]
    },
    {
     "data": {
      "text/plain": [
       "-0.038475625928334915"
      ]
     },
     "execution_count": 1,
     "metadata": {},
     "output_type": "execute_result"
    }
   ],
   "source": [
    "import torch\n",
    "import numpy as np\n",
    "logists = np.random.random(size=(2,3))    # 序列长度为3,  每个token分成4类\n",
    "print(logists)\n",
    "np.sum(np.log(logists.max(-1)[0]))/logists.shape[0]"
   ]
  }
 ],
 "metadata": {
  "kernelspec": {
   "display_name": "base",
   "language": "python",
   "name": "python3"
  },
  "language_info": {
   "codemirror_mode": {
    "name": "ipython",
    "version": 3
   },
   "file_extension": ".py",
   "mimetype": "text/x-python",
   "name": "python",
   "nbconvert_exporter": "python",
   "pygments_lexer": "ipython3",
   "version": "3.7.15"
  },
  "orig_nbformat": 4
 },
 "nbformat": 4,
 "nbformat_minor": 2
}
